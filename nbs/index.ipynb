{
 "cells": [
  {
   "cell_type": "markdown",
   "metadata": {},
   "source": [
    "# ibis_badge\n",
    "\n",
    "> Create markdown badges for use in ibis"
   ]
  },
  {
   "cell_type": "markdown",
   "metadata": {},
   "source": [
    "## Install"
   ]
  },
  {
   "cell_type": "markdown",
   "metadata": {},
   "source": [
    "```sh\n",
    "pip install ibis_badge\n",
    "```"
   ]
  },
  {
   "cell_type": "markdown",
   "metadata": {},
   "source": [
    "## Usage"
   ]
  },
  {
   "cell_type": "code",
   "execution_count": null,
   "metadata": {},
   "outputs": [],
   "source": [
    "from ibis_badge import Badge"
   ]
  },
  {
   "cell_type": "code",
   "execution_count": null,
   "metadata": {},
   "outputs": [
    {
     "data": {
      "text/markdown": [
       "![](https://img.shields.io/badge/Reads-CSV%20|%20Pandas%20|%20Parquet%20|%20PyArrow-orange?style=flat-square)"
      ],
      "text/plain": [
       "![](https://img.shields.io/badge/Reads-CSV%20|%20Pandas%20|%20Parquet%20|%20PyArrow-orange?style=flat-square)"
      ]
     },
     "execution_count": null,
     "metadata": {},
     "output_type": "execute_result"
    }
   ],
   "source": [
    "Badge(exports=[\"PyArrow\", \"Parquet\", \"CSV\", \"Pandas\"])"
   ]
  },
  {
   "cell_type": "code",
   "execution_count": null,
   "metadata": {},
   "outputs": [
    {
     "data": {
      "text/markdown": [
       "![](https://img.shields.io/badge/Reads-CSV%20|%20Pandas%20|%20Parquet%20|%20PyArrow-orange?style=flat-square)\n",
       "\n",
       "![](https://img.shields.io/badge/Exports-CSV%20|%20Pandas%20|%20Parquet%20|%20PyArrow-blue?style=flat-square)"
      ],
      "text/plain": [
       "![](https://img.shields.io/badge/Reads-CSV%20|%20Pandas%20|%20Parquet%20|%20PyArrow-orange?style=flat-square)\n",
       "\n",
       "![](https://img.shields.io/badge/Exports-CSV%20|%20Pandas%20|%20Parquet%20|%20PyArrow-blue?style=flat-square)"
      ]
     },
     "execution_count": null,
     "metadata": {},
     "output_type": "execute_result"
    }
   ],
   "source": [
    "Badge(exports=[\"PyArrow\", \"Parquet\", \"CSV\", \"Pandas\"], \n",
    "      imports=[\"PyArrow\", \"Parquet\", \"CSV\", \"Pandas\"])"
   ]
  }
 ],
 "metadata": {
  "kernelspec": {
   "display_name": "python3",
   "language": "python",
   "name": "python3"
  }
 },
 "nbformat": 4,
 "nbformat_minor": 4
}
