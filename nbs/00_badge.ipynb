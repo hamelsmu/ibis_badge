{
 "cells": [
  {
   "cell_type": "markdown",
   "metadata": {},
   "source": [
    "# badge\n",
    "\n",
    "> Fill in a module description here"
   ]
  },
  {
   "cell_type": "code",
   "execution_count": null,
   "metadata": {},
   "outputs": [],
   "source": [
    "#| default_exp badge"
   ]
  },
  {
   "cell_type": "code",
   "execution_count": null,
   "metadata": {},
   "outputs": [],
   "source": [
    "#|export\n",
    "from fastcore.all import store_attr, test_eq"
   ]
  },
  {
   "cell_type": "code",
   "execution_count": null,
   "metadata": {},
   "outputs": [],
   "source": [
    "#|export\n",
    "class Badge:\n",
    "    \"Generate a markdown badge in the ibis style\"\n",
    "    def __init__(self, exports:list=None, imports:list=None, caption=False):\n",
    "        store_attr()\n",
    "    \n",
    "    def __repr__(self):\n",
    "        md = []\n",
    "    \n",
    "        if self.exports:\n",
    "            ex = \"%20|%20\".join(sorted(self.exports))\n",
    "            md.append(f\"![{'filebadge' if self.caption else ''}](https://img.shields.io/badge/Reads-{ex}-orange?style=flat-square)\")\n",
    "\n",
    "        if self.imports:\n",
    "            ex = \"%20|%20\".join(sorted(self.imports))\n",
    "            md.append(f\"![{'exportbadge' if self.caption else ''}](https://img.shields.io/badge/Exports-{ex}-blue?style=flat-square)\")\n",
    "\n",
    "        return '\\n\\n'.join(md)\n",
    "    \n",
    "    def _repr_markdown_(self):\n",
    "        return self.__repr__()"
   ]
  },
  {
   "cell_type": "markdown",
   "metadata": {},
   "source": [
    "To generate a markdown badge, pass an argument to  `exports`, `imports` or both."
   ]
  },
  {
   "cell_type": "code",
   "execution_count": null,
   "metadata": {},
   "outputs": [
    {
     "data": {
      "text/markdown": [
       "![](https://img.shields.io/badge/Reads-CSV%20|%20Pandas%20|%20Parquet%20|%20PyArrow-orange?style=flat-square)"
      ],
      "text/plain": [
       "![](https://img.shields.io/badge/Reads-CSV%20|%20Pandas%20|%20Parquet%20|%20PyArrow-orange?style=flat-square)"
      ]
     },
     "execution_count": null,
     "metadata": {},
     "output_type": "execute_result"
    }
   ],
   "source": [
    "badge = Badge(exports=[\"PyArrow\", \"Parquet\", \"CSV\", \"Pandas\"])\n",
    "badge"
   ]
  },
  {
   "cell_type": "code",
   "execution_count": null,
   "metadata": {},
   "outputs": [
    {
     "data": {
      "text/markdown": [
       "![](https://img.shields.io/badge/Exports-CSV%20|%20Pandas%20|%20Parquet%20|%20PyArrow-blue?style=flat-square)"
      ],
      "text/plain": [
       "![](https://img.shields.io/badge/Exports-CSV%20|%20Pandas%20|%20Parquet%20|%20PyArrow-blue?style=flat-square)"
      ]
     },
     "execution_count": null,
     "metadata": {},
     "output_type": "execute_result"
    }
   ],
   "source": [
    "Badge(imports=[\"PyArrow\", \"Parquet\", \"CSV\", \"Pandas\"])"
   ]
  },
  {
   "cell_type": "code",
   "execution_count": null,
   "metadata": {},
   "outputs": [
    {
     "data": {
      "text/markdown": [
       "![](https://img.shields.io/badge/Reads-CSV%20|%20Pandas%20|%20Parquet%20|%20PyArrow-orange?style=flat-square)\n",
       "\n",
       "![](https://img.shields.io/badge/Exports-CSV%20|%20Pandas%20|%20Parquet%20|%20PyArrow-blue?style=flat-square)"
      ],
      "text/plain": [
       "![](https://img.shields.io/badge/Reads-CSV%20|%20Pandas%20|%20Parquet%20|%20PyArrow-orange?style=flat-square)\n",
       "\n",
       "![](https://img.shields.io/badge/Exports-CSV%20|%20Pandas%20|%20Parquet%20|%20PyArrow-blue?style=flat-square)"
      ]
     },
     "execution_count": null,
     "metadata": {},
     "output_type": "execute_result"
    }
   ],
   "source": [
    "multi_badge = Badge(exports=[\"PyArrow\", \"Parquet\", \"CSV\", \"Pandas\"], \n",
    "              imports=[\"PyArrow\", \"Parquet\", \"CSV\", \"Pandas\"])\n",
    "multi_badge"
   ]
  },
  {
   "cell_type": "code",
   "execution_count": null,
   "metadata": {},
   "outputs": [],
   "source": [
    "#|hide\n",
    "test_eq(badge.__repr__(),\n",
    "        \"![](https://img.shields.io/badge/Reads-CSV%20|%20Pandas%20|%20Parquet%20|%20PyArrow-orange?style=flat-square)\")"
   ]
  },
  {
   "cell_type": "code",
   "execution_count": null,
   "metadata": {},
   "outputs": [],
   "source": [
    "#|hide\n",
    "test_eq(multi_badge.__repr__(),\n",
    "        \"![](https://img.shields.io/badge/Reads-CSV%20|%20Pandas%20|%20Parquet%20|%20PyArrow-orange?style=flat-square)\\n\\n![](https://img.shields.io/badge/Exports-CSV%20|%20Pandas%20|%20Parquet%20|%20PyArrow-blue?style=flat-square)\")"
   ]
  },
  {
   "cell_type": "code",
   "execution_count": null,
   "metadata": {},
   "outputs": [],
   "source": []
  }
 ],
 "metadata": {
  "kernelspec": {
   "display_name": "python3",
   "language": "python",
   "name": "python3"
  }
 },
 "nbformat": 4,
 "nbformat_minor": 4
}
